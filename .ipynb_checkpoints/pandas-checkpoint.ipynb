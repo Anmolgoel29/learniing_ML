{
 "cells": [
  {
   "cell_type": "markdown",
   "id": "fe1a4c8f-a48c-4dea-a6e1-dfec1c1b9834",
   "metadata": {},
   "source": [
    "## LETS LEARN PANDAS"
   ]
  },
  {
   "cell_type": "code",
   "execution_count": 1,
   "id": "acedc741-318f-4def-b787-7a663eeb4330",
   "metadata": {},
   "outputs": [],
   "source": [
    "import pandas as pd\n"
   ]
  },
  {
   "cell_type": "code",
   "execution_count": 3,
   "id": "1b6119d1-510a-495b-96af-51d66ace1dc8",
   "metadata": {},
   "outputs": [
    {
     "data": {
      "text/plain": [
       "0    hello\n",
       "1        1\n",
       "2        2\n",
       "3        3\n",
       "4       34\n",
       "dtype: object"
      ]
     },
     "execution_count": 3,
     "metadata": {},
     "output_type": "execute_result"
    }
   ],
   "source": [
    "pd.Series([\"hello\" , 1,2,3,34])\n"
   ]
  },
  {
   "cell_type": "code",
   "execution_count": null,
   "id": "ea263d4c-dd7f-485f-97fc-bdeb33a29be2",
   "metadata": {},
   "outputs": [],
   "source": [
    "n = pd.Series([1,2,3,344,5,65,6,7])"
   ]
  }
 ],
 "metadata": {
  "kernelspec": {
   "display_name": "Python 3 (ipykernel)",
   "language": "python",
   "name": "python3"
  },
  "language_info": {
   "codemirror_mode": {
    "name": "ipython",
    "version": 3
   },
   "file_extension": ".py",
   "mimetype": "text/x-python",
   "name": "python",
   "nbconvert_exporter": "python",
   "pygments_lexer": "ipython3",
   "version": "3.12.3"
  }
 },
 "nbformat": 4,
 "nbformat_minor": 5
}
